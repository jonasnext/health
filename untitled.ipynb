{
  "nbformat": 4,
  "nbformat_minor": 0,
  "metadata": {
    "colab": {
      "name": "untitled",
      "provenance": []
    },
    "kernelspec": {
      "display_name": "Python 3",
      "name": "python3",
      "language": "python"
    }
  },
  "cells": [
    {
      "cell_type": "code",
      "metadata": {},
      "source": [
        "import pandas as pd\n",
        "import numpy as np\n",
        "import sklearn as sk\n",
        "import matplotlib as mpl\n",
        "import matplotlib.pyplot as plt\n",
        "import xml.etree.ElementTree as ET"
      ],
      "execution_count": null,
      "outputs": []
    },
    {
      "cell_type": "code",
      "execution_count": null,
      "metadata": {},
      "outputs": [],
      "source": [
        "def xml_to_dict(x):\n",
        "    a = x.attrib.copy()\n",
        "    if x.text:\n",
        "        a[\"text_\"] = x.text\n",
        "    for e in x:\n",
        "        if not e.tag in a:\n",
        "            a[e.tag] = []\n",
        "        a[e.tag].append(xml_to_dict(e))\n",
        "    return a"
      ]
    },
    {
      "cell_type": "code",
      "execution_count": null,
      "metadata": {},
      "outputs": [],
      "source": [
        "fn = \"data/apple_health_export/export.xml\""
      ]
    },
    {
      "cell_type": "code",
      "execution_count": null,
      "metadata": {},
      "outputs": [],
      "source": [
        "tree = ET.parse(fn)\n",
        "root = tree.getroot()"
      ]
    },
    {
      "cell_type": "code",
      "execution_count": null,
      "metadata": {},
      "outputs": [],
      "source": [
        "apple_health = { root.tag: xml_to_dict(root) }\n",
        "health_data = apple_health[\"HealthData\"]\n",
        "health_data.keys()"
      ]
    },
    {
      "cell_type": "code",
      "execution_count": null,
      "metadata": {},
      "outputs": [],
      "source": [
        "{ key: health_data[key] for key in health_data if type(health_data[key]) != list }"
      ]
    },
    {
      "cell_type": "code",
      "execution_count": null,
      "metadata": {},
      "outputs": [],
      "source": [
        "e_df = pd.DataFrame.from_dict(health_data[\"ExportDate\"])\n",
        "m_df = pd.DataFrame.from_dict(health_data[\"Me\"])\n",
        "r_df = pd.DataFrame.from_dict(health_data[\"Record\"])\n",
        "a_df = pd.DataFrame.from_dict(health_data[\"ActivitySummary\"])\n",
        "w_df = pd.DataFrame.from_dict(health_data[\"Workout\"])"
      ]
    },
    {
      "cell_type": "code",
      "execution_count": null,
      "metadata": {},
      "outputs": [],
      "source": []
    }
  ]
}
